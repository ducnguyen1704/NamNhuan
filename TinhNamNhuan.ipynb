{
 "cells": [
  {
   "cell_type": "markdown",
   "metadata": {},
   "source": [
    "# Kiểm tra năm nhuận"
   ]
  },
  {
   "cell_type": "code",
   "execution_count": 20,
   "metadata": {},
   "outputs": [
    {
     "name": "stdout",
     "output_type": "stream",
     "text": [
      "Nhập vào năm cần kiểm tra: 2002\n"
     ]
    }
   ],
   "source": [
    "year = int(input(\"Nhập vào năm cần kiểm tra: \"))"
   ]
  },
  {
   "cell_type": "code",
   "execution_count": 21,
   "metadata": {},
   "outputs": [
    {
     "name": "stdout",
     "output_type": "stream",
     "text": [
      "Năm 2002 là năm không nhuận\n"
     ]
    }
   ],
   "source": [
    "if year % 4 == 0 and year % 100 != 0 or year % 400 == 0:\n",
    "    print(\"Năm {} là năm nhuận\".format(year))\n",
    "else:\n",
    "    print(\"Năm {} là năm không nhuận\".format(year))"
   ]
  },
  {
   "cell_type": "markdown",
   "metadata": {},
   "source": [
    "# Năm nhuận tháng 2 có 29 ngày"
   ]
  },
  {
   "cell_type": "code",
   "execution_count": 27,
   "metadata": {},
   "outputs": [
    {
     "name": "stdout",
     "output_type": "stream",
     "text": [
      "Nhập vào năm cần kiểm tra: 2000\n",
      "Nhập tháng cần kiểm tra: 2\n"
     ]
    }
   ],
   "source": [
    "year = int(input(\"Nhập vào năm cần kiểm tra: \"))\n",
    "month = int(input(\"Nhập tháng cần kiểm tra: \"))"
   ]
  },
  {
   "cell_type": "code",
   "execution_count": 28,
   "metadata": {},
   "outputs": [
    {
     "name": "stdout",
     "output_type": "stream",
     "text": [
      "Năm 2000 là năm nhuận!\n",
      "Tháng 2 năm 2000 có 29 ngày!\n"
     ]
    }
   ],
   "source": [
    "if year % 4 == 0 and year % 100 != 0 or year % 400 == 0:\n",
    "    print(\"Năm {} là năm nhuận!\".format(year))\n",
    "    if month in (1,3,5,7,8,10,12):\n",
    "        print(\"Tháng {} năm {} có 31 ngày!\".format(month,year))\n",
    "    elif month == 2:\n",
    "        print(\"Tháng 2 năm {} có 29 ngày!\".format(year))\n",
    "    elif month in (4,6,9,11):\n",
    "        print(\"Tháng {} năm {} có 30 ngày\".format(month, year))\n",
    "    else:\n",
    "        print(\"Tháng {} không có trong năm\".format(year))\n",
    "else:\n",
    "    print(\"Năm {} là năm không nhuận!\".format(year))\n",
    "    if month in (1,3,5,7,8,10,12):\n",
    "        print(\"Tháng {} năm {} có 31 ngày!\".format(month,year))\n",
    "    elif month == 2:\n",
    "        print(\"Tháng 2 năm {} có 28 ngày!\".format(year))\n",
    "    elif month in (4,6,9,11):\n",
    "        print(\"Tháng {} năm {} có 30 ngày\".format(month, year))\n",
    "    else:\n",
    "        print(\"Tháng {} không có trong năm\".format(year))"
   ]
  },
  {
   "cell_type": "code",
   "execution_count": null,
   "metadata": {},
   "outputs": [],
   "source": []
  }
 ],
 "metadata": {
  "kernelspec": {
   "display_name": "Python 3",
   "language": "python",
   "name": "python3"
  },
  "language_info": {
   "codemirror_mode": {
    "name": "ipython",
    "version": 3
   },
   "file_extension": ".py",
   "mimetype": "text/x-python",
   "name": "python",
   "nbconvert_exporter": "python",
   "pygments_lexer": "ipython3",
   "version": "3.7.6"
  }
 },
 "nbformat": 4,
 "nbformat_minor": 4
}
